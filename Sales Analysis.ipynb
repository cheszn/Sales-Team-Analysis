{
 "cells": [
  {
   "cell_type": "code",
   "execution_count": 1,
   "id": "c4e1c53d-f3e9-40e7-b6a4-bd3d97a3125c",
   "metadata": {
    "tags": []
   },
   "outputs": [],
   "source": [
    "import pandas as pd\n",
    "import numpy as np\n",
    "import seaborn as sns\n",
    "import matplotlib.pyplot as plt\n",
    "from ydata_profiling import ProfileReport"
   ]
  },
  {
   "cell_type": "code",
   "execution_count": 2,
   "id": "bce57db0-8027-437a-93a4-d6a2a7be090a",
   "metadata": {
    "tags": []
   },
   "outputs": [
    {
     "data": {
      "text/html": [
       "<div>\n",
       "<style scoped>\n",
       "    .dataframe tbody tr th:only-of-type {\n",
       "        vertical-align: middle;\n",
       "    }\n",
       "\n",
       "    .dataframe tbody tr th {\n",
       "        vertical-align: top;\n",
       "    }\n",
       "\n",
       "    .dataframe thead th {\n",
       "        text-align: right;\n",
       "    }\n",
       "</style>\n",
       "<table border=\"1\" class=\"dataframe\">\n",
       "  <thead>\n",
       "    <tr style=\"text-align: right;\">\n",
       "      <th></th>\n",
       "      <th>Opportunity ID</th>\n",
       "      <th>Account ID 18 Digits</th>\n",
       "      <th>Opportunity Owner</th>\n",
       "      <th>Amount (converted)</th>\n",
       "      <th>Stage</th>\n",
       "      <th>Created Date</th>\n",
       "      <th>Close Date</th>\n",
       "      <th>Age</th>\n",
       "      <th>Lead Source</th>\n",
       "      <th>Employees</th>\n",
       "      <th>Industry</th>\n",
       "      <th>Market Segment</th>\n",
       "      <th>Reporting Manager</th>\n",
       "      <th>Territory</th>\n",
       "      <th>Month&amp;Year</th>\n",
       "      <th>Created Month &amp; Year</th>\n",
       "    </tr>\n",
       "  </thead>\n",
       "  <tbody>\n",
       "    <tr>\n",
       "      <th>0</th>\n",
       "      <td>00606000012b5JF</td>\n",
       "      <td>0010600001z3JtmAAE</td>\n",
       "      <td>AE 5</td>\n",
       "      <td>4000.00</td>\n",
       "      <td>Closed Lost</td>\n",
       "      <td>1/8/2022</td>\n",
       "      <td>1/25/2022</td>\n",
       "      <td>17</td>\n",
       "      <td>Partner Referral</td>\n",
       "      <td>NaN</td>\n",
       "      <td>Food &amp; Beverage - Restaurants</td>\n",
       "      <td>NaN</td>\n",
       "      <td>Director of Sales 2</td>\n",
       "      <td>EMEA</td>\n",
       "      <td>Jan 2022</td>\n",
       "      <td>Jan 2022</td>\n",
       "    </tr>\n",
       "    <tr>\n",
       "      <th>1</th>\n",
       "      <td>00606000012b3w0</td>\n",
       "      <td>0010600001z3DY6AAM</td>\n",
       "      <td>AE 6</td>\n",
       "      <td>4235.35</td>\n",
       "      <td>Closed Lost</td>\n",
       "      <td>1/6/2022</td>\n",
       "      <td>2/2/2022</td>\n",
       "      <td>27</td>\n",
       "      <td>Inbound</td>\n",
       "      <td>NaN</td>\n",
       "      <td>Agencies / Consultancies / Software Providers ...</td>\n",
       "      <td>NaN</td>\n",
       "      <td>Director of Sales 2</td>\n",
       "      <td>EMEA</td>\n",
       "      <td>Feb 2022</td>\n",
       "      <td>Jan 2022</td>\n",
       "    </tr>\n",
       "    <tr>\n",
       "      <th>2</th>\n",
       "      <td>00606000012b4vX</td>\n",
       "      <td>0010600001z3IFzAAM</td>\n",
       "      <td>AE 5</td>\n",
       "      <td>4000.00</td>\n",
       "      <td>Closed Won</td>\n",
       "      <td>1/8/2022</td>\n",
       "      <td>2/7/2022</td>\n",
       "      <td>30</td>\n",
       "      <td>Inbound</td>\n",
       "      <td>476.0</td>\n",
       "      <td>Food &amp; Beverage - Delivery Services</td>\n",
       "      <td>Corporate</td>\n",
       "      <td>Director of Sales 2</td>\n",
       "      <td>EMEA</td>\n",
       "      <td>Feb 2022</td>\n",
       "      <td>Jan 2022</td>\n",
       "    </tr>\n",
       "    <tr>\n",
       "      <th>3</th>\n",
       "      <td>00606000012bJiw</td>\n",
       "      <td>0010600001z5DWaAAM</td>\n",
       "      <td>AE 4</td>\n",
       "      <td>4235.35</td>\n",
       "      <td>Closed Lost</td>\n",
       "      <td>2/1/2022</td>\n",
       "      <td>2/12/2022</td>\n",
       "      <td>11</td>\n",
       "      <td>Inbound</td>\n",
       "      <td>NaN</td>\n",
       "      <td>Agencies / Consultancies / Software Providers</td>\n",
       "      <td>NaN</td>\n",
       "      <td>Director of Sales 2</td>\n",
       "      <td>EMEA</td>\n",
       "      <td>Feb 2022</td>\n",
       "      <td>Feb 2022</td>\n",
       "    </tr>\n",
       "    <tr>\n",
       "      <th>4</th>\n",
       "      <td>00606000012bCpU</td>\n",
       "      <td>0010600001z4R6PAAU</td>\n",
       "      <td>AE 4</td>\n",
       "      <td>4000.00</td>\n",
       "      <td>Closed Lost</td>\n",
       "      <td>1/20/2022</td>\n",
       "      <td>2/25/2022</td>\n",
       "      <td>36</td>\n",
       "      <td>Inbound</td>\n",
       "      <td>NaN</td>\n",
       "      <td>Mobility &amp; Transportation - Logistics</td>\n",
       "      <td>NaN</td>\n",
       "      <td>Director of Sales 2</td>\n",
       "      <td>EMEA</td>\n",
       "      <td>Feb 2022</td>\n",
       "      <td>Jan 2022</td>\n",
       "    </tr>\n",
       "  </tbody>\n",
       "</table>\n",
       "</div>"
      ],
      "text/plain": [
       "    Opportunity ID Account ID 18 Digits Opportunity Owner  Amount (converted)   \n",
       "0  00606000012b5JF   0010600001z3JtmAAE              AE 5             4000.00  \\\n",
       "1  00606000012b3w0   0010600001z3DY6AAM              AE 6             4235.35   \n",
       "2  00606000012b4vX   0010600001z3IFzAAM              AE 5             4000.00   \n",
       "3  00606000012bJiw   0010600001z5DWaAAM              AE 4             4235.35   \n",
       "4  00606000012bCpU   0010600001z4R6PAAU              AE 4             4000.00   \n",
       "\n",
       "         Stage Created Date Close Date  Age       Lead Source  Employees   \n",
       "0  Closed Lost     1/8/2022  1/25/2022   17  Partner Referral        NaN  \\\n",
       "1  Closed Lost     1/6/2022   2/2/2022   27           Inbound        NaN   \n",
       "2   Closed Won     1/8/2022   2/7/2022   30           Inbound      476.0   \n",
       "3  Closed Lost     2/1/2022  2/12/2022   11           Inbound        NaN   \n",
       "4  Closed Lost    1/20/2022  2/25/2022   36           Inbound        NaN   \n",
       "\n",
       "                                            Industry Market Segment   \n",
       "0                      Food & Beverage - Restaurants            NaN  \\\n",
       "1  Agencies / Consultancies / Software Providers ...            NaN   \n",
       "2                Food & Beverage - Delivery Services      Corporate   \n",
       "3      Agencies / Consultancies / Software Providers            NaN   \n",
       "4              Mobility & Transportation - Logistics            NaN   \n",
       "\n",
       "     Reporting Manager Territory Month&Year Created Month & Year  \n",
       "0  Director of Sales 2      EMEA   Jan 2022             Jan 2022  \n",
       "1  Director of Sales 2      EMEA   Feb 2022             Jan 2022  \n",
       "2  Director of Sales 2      EMEA   Feb 2022             Jan 2022  \n",
       "3  Director of Sales 2      EMEA   Feb 2022             Feb 2022  \n",
       "4  Director of Sales 2      EMEA   Feb 2022             Jan 2022  "
      ]
     },
     "execution_count": 2,
     "metadata": {},
     "output_type": "execute_result"
    }
   ],
   "source": [
    "df = pd.read_csv('data/Sales Team Analysis - All Data.csv')\n",
    "df.head()"
   ]
  },
  {
   "cell_type": "code",
   "execution_count": 3,
   "id": "7d3e6740-1a4a-4ff0-82d9-9452650cd851",
   "metadata": {
    "tags": []
   },
   "outputs": [
    {
     "data": {
      "application/vnd.jupyter.widget-view+json": {
       "model_id": "34eb991f3bf14e1cb7fc03f083065473",
       "version_major": 2,
       "version_minor": 0
      },
      "text/plain": [
       "Summarize dataset:   0%|          | 0/5 [00:00<?, ?it/s]"
      ]
     },
     "metadata": {},
     "output_type": "display_data"
    },
    {
     "data": {
      "application/vnd.jupyter.widget-view+json": {
       "model_id": "976b52db29fc43ecb05e22e3944f3daa",
       "version_major": 2,
       "version_minor": 0
      },
      "text/plain": [
       "Generate report structure:   0%|          | 0/1 [00:00<?, ?it/s]"
      ]
     },
     "metadata": {},
     "output_type": "display_data"
    },
    {
     "data": {
      "application/vnd.jupyter.widget-view+json": {
       "model_id": "95057493edc04871b8be7a6e121bdc14",
       "version_major": 2,
       "version_minor": 0
      },
      "text/plain": [
       "Render HTML:   0%|          | 0/1 [00:00<?, ?it/s]"
      ]
     },
     "metadata": {},
     "output_type": "display_data"
    },
    {
     "data": {
      "application/vnd.jupyter.widget-view+json": {
       "model_id": "313e7b9fe9cb49b580ac04257ebc65c3",
       "version_major": 2,
       "version_minor": 0
      },
      "text/plain": [
       "Export report to file:   0%|          | 0/1 [00:00<?, ?it/s]"
      ]
     },
     "metadata": {},
     "output_type": "display_data"
    }
   ],
   "source": [
    "#ydataprofiling\n",
    "\n",
    "'''# Generate the report\n",
    "profile = ProfileReport(df,title=\"Sales Analysis\")\n",
    "# Save the report to .html\n",
    "profile.to_file(\"Sales Analysis.html\")'''"
   ]
  },
  {
   "cell_type": "code",
   "execution_count": null,
   "id": "882c9a27-706f-47c3-a4a4-39c06e220f48",
   "metadata": {},
   "outputs": [],
   "source": []
  },
  {
   "cell_type": "code",
   "execution_count": null,
   "id": "9d71b153-39d0-44d1-be34-aa9ece36a74e",
   "metadata": {},
   "outputs": [],
   "source": []
  }
 ],
 "metadata": {
  "kernelspec": {
   "display_name": "Python 3 (ipykernel)",
   "language": "python",
   "name": "python3"
  },
  "language_info": {
   "codemirror_mode": {
    "name": "ipython",
    "version": 3
   },
   "file_extension": ".py",
   "mimetype": "text/x-python",
   "name": "python",
   "nbconvert_exporter": "python",
   "pygments_lexer": "ipython3",
   "version": "3.11.3"
  }
 },
 "nbformat": 4,
 "nbformat_minor": 5
}
